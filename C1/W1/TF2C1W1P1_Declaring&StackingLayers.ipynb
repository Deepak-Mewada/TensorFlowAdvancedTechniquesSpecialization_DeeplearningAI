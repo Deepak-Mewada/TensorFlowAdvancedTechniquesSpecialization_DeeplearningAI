{
  "nbformat": 4,
  "nbformat_minor": 0,
  "metadata": {
    "colab": {
      "provenance": [],
      "authorship_tag": "ABX9TyMkOYYJagWmawhQMvbq8eVX",
      "include_colab_link": true
    },
    "kernelspec": {
      "name": "python3",
      "display_name": "Python 3"
    },
    "language_info": {
      "name": "python"
    }
  },
  "cells": [
    {
      "cell_type": "markdown",
      "metadata": {
        "id": "view-in-github",
        "colab_type": "text"
      },
      "source": [
        "<a href=\"https://colab.research.google.com/github/Deepak-Mewada/TensorFlowAdvancedTechniquesSpecialization_DeeplearningAI/blob/main/C1/W1/TF2C1W1P1_Declaring%26StackingLayers.ipynb\" target=\"_parent\"><img src=\"https://colab.research.google.com/assets/colab-badge.svg\" alt=\"Open In Colab\"/></a>"
      ]
    },
    {
      "cell_type": "code",
      "execution_count": null,
      "metadata": {
        "id": "Ww7yE99NJUYu"
      },
      "outputs": [],
      "source": [
        "#@title Double bracket code concept\n",
        " dense_layer = tf.keras.layers.Dense(128, activation = 'relu')\n",
        "\n",
        " dense_layer(flatten_layer)"
      ]
    },
    {
      "cell_type": "markdown",
      "source": [
        "The double bracket concept is nearly a shortcut for this type of code."
      ],
      "metadata": {
        "id": "eXiCWDy362SG"
      }
    },
    {
      "cell_type": "markdown",
      "source": [
        "# Branching Model"
      ],
      "metadata": {
        "id": "AfjF0TeXOcSp"
      }
    },
    {
      "cell_type": "code",
      "source": [
        "layer1 = tf.keras.layers.Dense(32)\n",
        "\n",
        "layer2_1 = Dense(32)(layer1)\n",
        "layer2_2 = Dense(32)(layer1)\n",
        "layer2_3 = Dense(32)(layer1)\n",
        "layer2_4 = Dense(32)(layer1)\n",
        "\n",
        "merge = Concatenate([layer2_1,layer2_2,layer2_3,layer2_4])\n",
        "\n",
        "#multiple inputs and multiple outputs\n",
        "func_model = Model(inputs = [input1,input2], outputs = [output1,output2])"
      ],
      "metadata": {
        "id": "j5eXbrxdOegh"
      },
      "execution_count": null,
      "outputs": []
    },
    {
      "cell_type": "code",
      "source": [
        "# @title Practice branching\n",
        "\n",
        "layer1 = Dense(32)\n",
        "\n",
        "layer2_1 = Dense(32)(layer_1)\n",
        "layer2_2 = Dnese(32)(layer2_1)\n",
        "layer2_3 = Dense(32)(layer2_2)\n",
        "layer2_4 = Dense(32)(layer2_3)\n",
        "\n",
        "merge = Concatename([layer2_1,layer2_2,layer2_3,mlayer2_4])\n",
        "\n",
        "#multiple inputs and multiple outputs\n",
        "func_model = Model(inputs = [input1,input2], outputs = [outpu1,output2])"
      ],
      "metadata": {
        "id": "24X7mOvLQ64h"
      },
      "execution_count": null,
      "outputs": []
    }
  ]
}
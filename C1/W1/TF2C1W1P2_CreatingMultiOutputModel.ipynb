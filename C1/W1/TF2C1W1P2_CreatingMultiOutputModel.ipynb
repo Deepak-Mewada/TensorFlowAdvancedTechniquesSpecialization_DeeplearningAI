{
  "nbformat": 4,
  "nbformat_minor": 0,
  "metadata": {
    "colab": {
      "provenance": [],
      "authorship_tag": "ABX9TyM1mQYWsdRq0hY05WMRycd3",
      "include_colab_link": true
    },
    "kernelspec": {
      "name": "python3",
      "display_name": "Python 3"
    },
    "language_info": {
      "name": "python"
    }
  },
  "cells": [
    {
      "cell_type": "markdown",
      "metadata": {
        "id": "view-in-github",
        "colab_type": "text"
      },
      "source": [
        "<a href=\"https://colab.research.google.com/github/Deepak-Mewada/TensorFlowAdvancedTechniquesSpecialization_DeeplearningAI/blob/main/C1/W1/TF2C1W1P2_CreatingMultiOutputModel.ipynb\" target=\"_parent\"><img src=\"https://colab.research.google.com/assets/colab-badge.svg\" alt=\"Open In Colab\"/></a>"
      ]
    },
    {
      "cell_type": "markdown",
      "source": [
        "# Creating Multi Output Model"
      ],
      "metadata": {
        "id": "_3ypjuFHBBMx"
      }
    },
    {
      "cell_type": "markdown",
      "source": [
        "### Energy efficiency dataset\n",
        "\n",
        "[Link](https://archive.ics.uci.edu/ml/datasets/Energy+efficiency) to the Energy efficiency Data Set.\n",
        "\n"
      ],
      "metadata": {
        "id": "6qQG5PQsEAbN"
      }
    },
    {
      "cell_type": "code",
      "execution_count": 6,
      "metadata": {
        "id": "5rOzAPjVAYUp"
      },
      "outputs": [],
      "source": [
        "# import \n",
        "from tensorflow.keras import Input\n",
        "from tensorflow.keras.layers import Dense\n",
        "from tensorflow.keras.models import Model\n"
      ]
    },
    {
      "cell_type": "code",
      "source": [
        "# input\n",
        "input = Input(shape = (8))\n",
        "\n",
        "# layers\n",
        "dense_1 = Dense(128, activation= 'relu')(input)\n",
        "dense_2 = Dense(128, activation = 'relu')(dense_1)\n",
        "\n",
        "y1_output = Dense(1, name ='y1_output')(dense_2)\n",
        "\n",
        "dense_3 = Dense(64, activation='relu')(dense_2)\n",
        "y2_output = Dense(1, name = 'y2_output')(dense_3)\n",
        "\n",
        "# Models\n",
        "model = Model(inputs = input, outputs = [y1_output, y2_output])\n"
      ],
      "metadata": {
        "id": "MSIwBtS2BLFo"
      },
      "execution_count": 7,
      "outputs": []
    },
    {
      "cell_type": "code",
      "source": [
        "# @title Creating a Multi-Output Model\n",
        "\n",
        "#import the required libraries\n",
        "\n",
        "from tensorflow.keras import Input\n",
        "from tensorflow.keras.layers import Flatten, Dense\n",
        "from tensorflow.keras.models import Model\n",
        "\n",
        "#input\n",
        "input = Input(8)\n",
        "\n",
        "#layers\n",
        "dense_1 = Dense(128, activation = 'relu')(input)\n",
        "dense_2 = Dense(128, activation = 'relu')(dense_1)\n",
        "\n",
        "y1_output = Dense(1, name = 'y1_output')(dense_2)\n",
        "\n",
        "dense_3   = Dense(64, activation='relu')(y1_output)\n",
        "y2_output = Dense(1, name = 'y2_output')(dense_3)\n",
        "\n",
        "#model\n",
        "model = Model(inputs = input , outputs = [y1_output, y2_output])\n"
      ],
      "metadata": {
        "id": "V26JDnVKVQ0j"
      },
      "execution_count": 3,
      "outputs": []
    }
  ]
}
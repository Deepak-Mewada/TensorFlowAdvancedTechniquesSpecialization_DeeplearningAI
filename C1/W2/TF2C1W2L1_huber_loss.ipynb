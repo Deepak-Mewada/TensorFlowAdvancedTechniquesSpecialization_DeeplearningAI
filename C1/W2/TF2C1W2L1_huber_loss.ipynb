{
  "nbformat": 4,
  "nbformat_minor": 0,
  "metadata": {
    "colab": {
      "provenance": [],
      "authorship_tag": "ABX9TyNDpVtyqA5TfcC9Ors3kxTt",
      "include_colab_link": true
    },
    "kernelspec": {
      "name": "python3",
      "display_name": "Python 3"
    },
    "language_info": {
      "name": "python"
    }
  },
  "cells": [
    {
      "cell_type": "markdown",
      "metadata": {
        "id": "view-in-github",
        "colab_type": "text"
      },
      "source": [
        "<a href=\"https://colab.research.google.com/github/Deepak-Mewada/TensorFlowAdvancedTechniquesSpecialization_DeeplearningAI/blob/main/C1/W2/TF2C1W2L1_huber_loss.ipynb\" target=\"_parent\"><img src=\"https://colab.research.google.com/assets/colab-badge.svg\" alt=\"Open In Colab\"/></a>"
      ]
    },
    {
      "cell_type": "markdown",
      "source": [
        "#Ungraded Lab: Huber Loss\n",
        "\n",
        "\n",
        "In this lab, we'll walk through how to create custom loss functions. In particular, we'll code the [Huber Los](https://en.wikipedia.org/wiki/Huber_loss)s and use that in training the model."
      ],
      "metadata": {
        "id": "HNChpyHjqZ6u"
      }
    },
    {
      "cell_type": "markdown",
      "source": [
        "# Import"
      ],
      "metadata": {
        "id": "FtRxKWJhqorN"
      }
    },
    {
      "cell_type": "code",
      "execution_count": 2,
      "metadata": {
        "id": "U8lt5BI0Zquc"
      },
      "outputs": [],
      "source": [
        "import tensorflow as tf \n",
        "import numpy as np\n",
        "from tensorflow import keras"
      ]
    },
    {
      "cell_type": "markdown",
      "source": [
        "# Prepare the data\n",
        "\n",
        "Our dummy dataset is just a pair of arrays xs and ys defined by the relationship  𝑦=2𝑥−1\n",
        " . xs are the inputs while ys are the labels."
      ],
      "metadata": {
        "id": "7SCYpZYOqrtE"
      }
    },
    {
      "cell_type": "code",
      "source": [
        "#inputs \n",
        "xs = np.array([10,2.0, 3.0,4.0,5.0,6.0,10,18,-10], dtype = float)\n",
        "\n",
        "#labels\n",
        "ys = np.array([1.0, 3.0, 5.0, 7.0, 9.0, 11.0, 19.0, 35.0, -21], dtype= float)"
      ],
      "metadata": {
        "id": "1f7gq-Boqup0"
      },
      "execution_count": 50,
      "outputs": []
    },
    {
      "cell_type": "markdown",
      "source": [
        "# Training the model\n",
        "\n",
        "Let's build a simple model and train using a built-in loss function like the mean_squared_error."
      ],
      "metadata": {
        "id": "gZIxRWNcq6G8"
      }
    },
    {
      "cell_type": "code",
      "source": [
        "model_1 = tf.keras.Sequential([tf.keras.layers.Dense(units=1, input_shape = [1])])\n",
        "\n",
        "model_1.compile(\n",
        "    optimizer = 'sgd',\n",
        "    loss = 'mean_squared_error')\n",
        "\n",
        "model_1.fit(xs,ys, epochs=500, verbose = 0)\n",
        "\n",
        "model_1.predict([10.0])"
      ],
      "metadata": {
        "colab": {
          "base_uri": "https://localhost:8080/"
        },
        "id": "Mpo5OMYAq__U",
        "outputId": "ccbf6b04-25db-46c6-df54-c2e721836a36"
      },
      "execution_count": 51,
      "outputs": [
        {
          "output_type": "stream",
          "name": "stdout",
          "text": [
            "1/1 [==============================] - 0s 56ms/step\n"
          ]
        },
        {
          "output_type": "execute_result",
          "data": {
            "text/plain": [
              "array([[16.145185]], dtype=float32)"
            ]
          },
          "metadata": {},
          "execution_count": 51
        }
      ]
    },
    {
      "cell_type": "markdown",
      "source": [
        "## Custom Loss\n",
        "\n",
        " use a custom loss. We first define a function that accepts the ground truth labels (y_true) and model predictions (y_pred) as parameters. We then compute and return the loss value in the function definition."
      ],
      "metadata": {
        "id": "pl1LHrOkrAjc"
      }
    },
    {
      "cell_type": "code",
      "source": [
        "def my_huber_loss(y_true, y_pred):\n",
        "  threshold = 1\n",
        "  error = y_true-y_pred\n",
        "  is_small_a = tf.abs(error) <= threshold\n",
        "  small_loss = tf.square(error) * 0.5\n",
        "  large_loss = threshold * (tf.abs(error) - (threshold * 0.5))\n",
        "  return tf.where(is_small_a , small_loss, large_loss)"
      ],
      "metadata": {
        "id": "Rlknk8_3rGKs"
      },
      "execution_count": 52,
      "outputs": []
    },
    {
      "cell_type": "code",
      "source": [
        "my_huber_loss(xs,ys)"
      ],
      "metadata": {
        "colab": {
          "base_uri": "https://localhost:8080/"
        },
        "id": "XCBDsDUrwZsd",
        "outputId": "5704dfe1-ce6a-458b-e312-aec9e658642a"
      },
      "execution_count": 53,
      "outputs": [
        {
          "output_type": "execute_result",
          "data": {
            "text/plain": [
              "<tf.Tensor: shape=(9,), dtype=float64, numpy=array([ 8.5,  0.5,  1.5,  2.5,  3.5,  4.5,  8.5, 16.5, 10.5])>"
            ]
          },
          "metadata": {},
          "execution_count": 53
        }
      ]
    },
    {
      "cell_type": "markdown",
      "source": [
        "Using the loss function is as simple as specifying the loss function in the loss argument of model.compile()."
      ],
      "metadata": {
        "id": "KJjEc-adrMMs"
      }
    },
    {
      "cell_type": "code",
      "source": [
        "model_2 = tf.keras.Sequential([tf.keras.layers.Dense(units = 1, input_shape = [1] )])\n",
        "model_2.compile(optimizer = 'sgd',loss = my_huber_loss)\n",
        "model_2.fit(xs, ys, epochs=500, verbose = 0)\n",
        "\n",
        "model_2.predict([10.0])"
      ],
      "metadata": {
        "colab": {
          "base_uri": "https://localhost:8080/"
        },
        "id": "FkWmg_u5unE9",
        "outputId": "3ac9a657-0454-4d4e-c32f-e00b49e9fcf5"
      },
      "execution_count": 54,
      "outputs": [
        {
          "output_type": "stream",
          "name": "stdout",
          "text": [
            "1/1 [==============================] - 0s 48ms/step\n"
          ]
        },
        {
          "output_type": "execute_result",
          "data": {
            "text/plain": [
              "array([[18.840788]], dtype=float32)"
            ]
          },
          "metadata": {},
          "execution_count": 54
        }
      ]
    },
    {
      "cell_type": "markdown",
      "source": [
        "Ya hu !!!!\n"
      ],
      "metadata": {
        "id": "COjHxB0jyYN-"
      }
    },
    {
      "cell_type": "markdown",
      "source": [
        "# Custom loss parametrised\n"
      ],
      "metadata": {
        "id": "RRrlNeCXy_ie"
      }
    },
    {
      "cell_type": "code",
      "source": [
        "def my_huber_loss_parametrized(threshold=1):\n",
        "  def my_huber_loss(y_true, y_pred):\n",
        "    error = y_true-y_pred\n",
        "    is_small_a = tf.abs(error) <= threshold\n",
        "    loss_small = tf.square(error) * 0.5\n",
        "    loss_large = threshold * (tf.abs(error) - 0.5 * threshold)\n",
        "    return tf.where(is_small_a , loss_small , loss_large)\n",
        "  return my_huber_loss  \n",
        "  "
      ],
      "metadata": {
        "id": "LG30LLl7y-n9"
      },
      "execution_count": 64,
      "outputs": []
    },
    {
      "cell_type": "code",
      "source": [
        "model_3 = tf.keras.Sequential([tf.keras.layers.Dense(units =1 , input_shape = [1])])\n",
        "model_3.compile(optimizer = 'sgd',\n",
        "                loss = my_huber_loss_parametrized(threshold=0.5))\n",
        "model_3.fit(xs,ys, epochs = 500, verbose = 0)\n",
        "\n",
        "model_3.predict([10])"
      ],
      "metadata": {
        "colab": {
          "base_uri": "https://localhost:8080/"
        },
        "id": "uks8yFsT0N4u",
        "outputId": "5ce603a8-a5fb-48b3-a168-580aa9407c55"
      },
      "execution_count": 65,
      "outputs": [
        {
          "output_type": "stream",
          "name": "stdout",
          "text": [
            "1/1 [==============================] - 0s 52ms/step\n"
          ]
        },
        {
          "output_type": "execute_result",
          "data": {
            "text/plain": [
              "array([[18.955181]], dtype=float32)"
            ]
          },
          "metadata": {},
          "execution_count": 65
        }
      ]
    },
    {
      "cell_type": "code",
      "source": [],
      "metadata": {
        "id": "Si3jJdjCfdJd"
      },
      "execution_count": null,
      "outputs": []
    }
  ]
}